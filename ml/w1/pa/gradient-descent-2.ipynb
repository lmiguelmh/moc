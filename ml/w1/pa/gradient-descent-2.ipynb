{
 "cells": [
  {
   "cell_type": "code",
   "execution_count": 35,
   "metadata": {
    "collapsed": true
   },
   "outputs": [
    {
     "data": {
      "image/png": "[encoded data removed]",
      "text/plain": [
       "<matplotlib.figure.Figure at 0x20344411198>"
      ]
     },
     "metadata": {},
     "output_type": "display_data"
    }
   ],
   "source": [
    "% matplotlib inline\n",
    "import matplotlib.pyplot as plt\n",
    "\n",
    "x = [1, 2, 2, 3, 3, 4, 5, 6, 6, 6, 8, 10]\n",
    "y = [-890, -1411, -1560, -2220, -2091, -2878, -3537, -3268, -3920, -4163, -5471, -5157]\n",
    "\n",
    "# http://matplotlib.org/users/pyplot_tutorial.html\n",
    "plt.plot(x, y, 'bo', marker='.')\n",
    "plt.xlabel('x')\n",
    "plt.ylabel('y')\n",
    "plt.axis([0, 20, 0, -6000])\n",
    "plt.title('Heat release / Carbon atoms')\n",
    "plt.show()"
   ]
  },
  {
   "cell_type": "code",
   "execution_count": 1,
   "metadata": {},
   "outputs": [
    {
     "name": "stdout",
     "output_type": "stream",
     "text": [
      " a0 = -569.601597962\n a1 = -530.906795758\n  iterations    = 10000\n  learning rate = 0.005\n  starting a0   = -560\n  starting a1   = -520\n(-569.60159799999997, -530.90679599999999)\n"
     ]
    }
   ],
   "source": [
    "import graddesc as gd\n",
    "import numpy as np\n",
    "\n",
    "x = [1, 2, 2, 3, 3, 4, 5, 6, 6, 6, 8, 10]\n",
    "y = [-890, -1411, -1560, -2220, -2091, -2878, -3537, -3268, -3920, -4163, -5471, -5157]\n",
    "\n",
    "a = gd.graddesc(np.asarray(x), np.asarray(y), 10000, 0.005, -560, -520, True)\n",
    "print(a)"
   ]
  },
  {
   "cell_type": "code",
   "execution_count": 2,
   "metadata": {},
   "outputs": [
    {
     "data": {
      "text/plain": [
       "1.0"
      ]
     },
     "execution_count": 2,
     "metadata": {},
     "output_type": "execute_result"
    }
   ],
   "source": [
    "a0 = -2\n",
    "a1 = 0.5\n",
    "x = 6\n",
    "hx = a0 + a1*x\n",
    "hx"
   ]
  }
 ],
 "metadata": {
  "kernelspec": {
   "display_name": "Python 2",
   "language": "python",
   "name": "python2"
  },
  "language_info": {
   "codemirror_mode": {
    "name": "ipython",
    "version": 2.0
   },
   "file_extension": ".py",
   "mimetype": "text/x-python",
   "name": "python",
   "nbconvert_exporter": "python",
   "pygments_lexer": "ipython2",
   "version": "2.7.6"
  }
 },
 "nbformat": 4,
 "nbformat_minor": 0
}