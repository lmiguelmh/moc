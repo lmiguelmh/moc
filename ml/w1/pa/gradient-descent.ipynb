{
 "cells": [
  {
   "cell_type": "markdown",
   "metadata": {
    "collapsed": true
   },
   "source": [
    "__Gradient descent__"
   ]
  },
  {
   "cell_type": "code",
   "execution_count": 7,
   "metadata": {},
   "outputs": [
    {
     "data": {
      "image/png": "[encoded data removed]",
      "text/plain": [
       "<matplotlib.figure.Figure at 0x1f51080d898>"
      ]
     },
     "metadata": {},
     "output_type": "display_data"
    }
   ],
   "source": [
    "% matplotlib inline\n",
    "import matplotlib.pyplot as plt\n",
    "\n",
    "x = [1, 2, 4, 0]\n",
    "y = [0.5, 1, 2, 0]\n",
    "\n",
    "# http://matplotlib.org/users/pyplot_tutorial.html\n",
    "plt.plot(x, y)\n",
    "plt.xlabel('x')\n",
    "plt.ylabel('y')\n",
    "plt.title('Gradient descent')\n",
    "plt.show()"
   ]
  },
  {
   "cell_type": "code",
   "execution_count": 33,
   "metadata": {},
   "outputs": [
    {
     "name": "stdout",
     "output_type": "stream",
     "text": [
      "GRADIENT DESCENT USING LOOPS\nthe rate must be < 0.25\n500 times are needed for converge!\n(0.0, 0.5)\n"
     ]
    }
   ],
   "source": [
    "# update simultaneously:\n",
    "# h(x) = a0 + a1*x\n",
    "# a0 = a0 - learning_rate*1/m*sum_i_1_m(h(x)-y)\n",
    "# a1 = a1 - learning_rate*1/m*sum_i_1_m((h(x)-y)*x)\n",
    "def graddesc(x, y, cycles = 100):\n",
    "    if len(x) != len(y):\n",
    "        raise ValueError(\"invalid argument, len(x) != len(y)\")\n",
    "    a0 = 0\n",
    "    a1 = 0\n",
    "    rate = 0.25 #rate = 1\n",
    "    print(\"GRADIENT DESCENT USING LOOPS\")\n",
    "    print(\"the rate must be < 0.25\")\n",
    "    for i in range(0, cycles):\n",
    "        hx = a0 + a1*x\n",
    "        # print()\n",
    "        # print(hx)\n",
    "        _a0 = a0 - rate * 1 / len(x) * sum(hx - y)\n",
    "        _a1 = a1 - rate * 1 / len(x) * sum((hx - y)*x)\n",
    "        a0 = _a0\n",
    "        a1 = _a1\n",
    "    return round(a0, 6), round(a1, 6)\n",
    "    # print(\"a0 = \" + str(a0))\n",
    "    # print(\"a1 = \" + str(a1))\n",
    "\n",
    "import numpy as np\n",
    "\n",
    "x = [1, 2, 4, 0]\n",
    "y = [0.5, 1, 2, 0]\n",
    "a = graddesc(np.asarray(x), np.asarray(y), 500)\n",
    "print(\"500 times are needed for converge!\")\n",
    "print(a)"
   ]
  },
  {
   "cell_type": "code",
   "execution_count": 31,
   "metadata": {},
   "outputs": [
    {
     "data": {
      "text/plain": [
       "1.0"
      ]
     },
     "execution_count": 31,
     "metadata": {},
     "output_type": "execute_result"
    }
   ],
   "source": [
    "a0 = -1\n",
    "a1 = 0.5\n",
    "x = 4\n",
    "hx = a0 + a1*x\n",
    "hx"
   ]
  },
  {
   "cell_type": "code",
   "execution_count": 1,
   "metadata": {},
   "outputs": [
    {
     "data": {
      "text/plain": [
       "3.0"
      ]
     },
     "execution_count": 1,
     "metadata": {},
     "output_type": "execute_result"
    }
   ],
   "source": [
    "a0 = 0\n",
    "a1 = 1.5\n",
    "x = 2\n",
    "hx = a0 + a1*x\n",
    "hx"
   ]
  },
  {
   "cell_type": "code",
   "execution_count": 73,
   "metadata": {},
   "outputs": [
    {
     "name": "stdout",
     "output_type": "stream",
     "text": [
      "Testing competing hypotheses using matrix multiplication\n[[ 486.   410.4  691.6]\n [ 314.   341.6  416.4]\n [ 343.5  353.4  463.6]\n [ 173.   285.2  190.8]]\n"
     ]
    }
   ],
   "source": [
    "import numpy as np\n",
    "\n",
    "print(\"Testing competing hypotheses using matrix multiplication\")\n",
    "houses = [2104, 1416, 1534, 852]\n",
    "\n",
    "# hypo1 = -40 + 0.25 * x\n",
    "# hypo2 = 200 + 0.1 * x\n",
    "# hypo3 = -150 + 0.4 * x\n",
    "\n",
    "houses = np.asarray(houses, np.uint32)\n",
    "houses = houses.reshape(-1, 1)\n",
    "\n",
    "#data = np.stack((np.ones(houses.shape, houses.dtype), houses))\n",
    "#data = np.asarray([np.ones(houses.shape, houses.dtype), houses])\n",
    "data = np.append(np.ones(houses.shape, houses.dtype), houses, 1)\n",
    "#print(data)\n",
    "\n",
    "parameters = [[-40, 200, -150],\n",
    "              [0.25, 0.1, 0.4]]\n",
    "parameters = np.asarray(parameters)\n",
    "\n",
    "# using matrix multiplication\n",
    "# prediction = data * parameters\n",
    "prediction = np.mat(data) * np.mat(parameters)\n",
    "\n",
    "print(prediction)"
   ]
  },
  {
   "cell_type": "code",
   "execution_count": null,
   "metadata": {},
   "outputs": [],
   "source": [
    ""
   ]
  }
 ],
 "metadata": {
  "kernelspec": {
   "display_name": "Python 2",
   "language": "python",
   "name": "python2"
  },
  "language_info": {
   "codemirror_mode": {
    "name": "ipython",
    "version": 2.0
   },
   "file_extension": ".py",
   "mimetype": "text/x-python",
   "name": "python",
   "nbconvert_exporter": "python",
   "pygments_lexer": "ipython2",
   "version": "2.7.6"
  }
 },
 "nbformat": 4,
 "nbformat_minor": 0
}